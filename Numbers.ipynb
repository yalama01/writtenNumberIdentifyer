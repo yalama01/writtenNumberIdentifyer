{
 "cells": [
  {
   "cell_type": "code",
   "execution_count": 1,
   "id": "2ccc2c8d",
   "metadata": {},
   "outputs": [],
   "source": [
    "import tensorflow as tf"
   ]
  },
  {
   "cell_type": "code",
   "execution_count": 2,
   "id": "f800f4fa",
   "metadata": {},
   "outputs": [],
   "source": [
    "mnist = tf.keras.datasets.mnist"
   ]
  },
  {
   "cell_type": "code",
   "execution_count": 3,
   "id": "e5245c07",
   "metadata": {},
   "outputs": [],
   "source": [
    "(x_train, y_train),(x_test,y_test) = mnist.load_data()"
   ]
  },
  {
   "cell_type": "code",
   "execution_count": 4,
   "id": "d0c76c24",
   "metadata": {},
   "outputs": [
    {
     "data": {
      "text/plain": [
       "(60000, 28, 28)"
      ]
     },
     "execution_count": 4,
     "metadata": {},
     "output_type": "execute_result"
    }
   ],
   "source": [
    "x_train.shape"
   ]
  },
  {
   "cell_type": "code",
   "execution_count": 5,
   "id": "931c2d6b",
   "metadata": {},
   "outputs": [
    {
     "data": {
      "image/png": "[encoded data removed]",
      "text/plain": [
       "<Figure size 640x480 with 1 Axes>"
      ]
     },
     "metadata": {},
     "output_type": "display_data"
    },
    {
     "data": {
      "text/plain": [
       "<matplotlib.image.AxesImage at 0x2897ced4850>"
      ]
     },
     "execution_count": 5,
     "metadata": {},
     "output_type": "execute_result"
    },
    {
     "data": {
      "image/png": "[encoded data removed]",
      "text/plain": [
       "<Figure size 640x480 with 1 Axes>"
      ]
     },
     "metadata": {},
     "output_type": "display_data"
    }
   ],
   "source": [
    "import matplotlib.pyplot as plt\n",
    "\n",
    "plt.imshow(x_train[0])\n",
    "plt.show()\n",
    "plt.imshow(x_train[0], cmap = plt.cm.binary)"
   ]
  },
  {
   "cell_type": "code",
   "execution_count": 6,
   "id": "2878e134",
   "metadata": {},
   "outputs": [
    {
     "data": {
      "text/plain": [
       "<matplotlib.image.AxesImage at 0x2897cf64b10>"
      ]
     },
     "execution_count": 6,
     "metadata": {},
     "output_type": "execute_result"
    },
    {
     "data": {
      "image/png": "[encoded data removed]",
      "text/plain": [
       "<Figure size 640x480 with 1 Axes>"
      ]
     },
     "metadata": {},
     "output_type": "display_data"
    }
   ],
   "source": [
    "x_train = tf.keras.utils.normalize (x_train, axis=1)\n",
    "x_test = tf.keras.utils.normalize (x_test , axis = 1)\n",
    "plt.imshow(x_train[0] , cmap = plt.cm.binary)"
   ]
  },
  {
   "cell_type": "code",
   "execution_count": 7,
   "id": "efd45e85",
   "metadata": {},
   "outputs": [
    {
     "name": "stdout",
     "output_type": "stream",
     "text": [
      "training dimentions (60000, 28, 28, 1)\n",
      "testing dimentions (10000, 28, 28, 1)\n"
     ]
    }
   ],
   "source": [
    "import numpy as np\n",
    "IMG_SIZE = 28\n",
    "x_trainr = np.array(x_train).reshape(-1, IMG_SIZE , IMG_SIZE,1)\n",
    "x_testr = np.array(x_test).reshape(-1, IMG_SIZE , IMG_SIZE,1)\n",
    "print(\"training dimentions\" , x_trainr.shape)\n",
    "print(\"testing dimentions\" , x_testr.shape)"
   ]
  },
  {
   "cell_type": "code",
   "execution_count": 8,
   "id": "676e1a76",
   "metadata": {},
   "outputs": [],
   "source": [
    "from tensorflow.keras.models import Sequential\n",
    "from tensorflow.keras.layers import Dense, Dropout , Activation , Flatten , Conv2D ,MaxPooling2D"
   ]
  },
  {
   "cell_type": "code",
   "execution_count": 9,
   "id": "97c69a53",
   "metadata": {},
   "outputs": [],
   "source": [
    "# Initialize a sequential model\n",
    "model = Sequential()\n",
    "\n",
    "# Add a 2D convolutional layer with 64 filters of size 3x3 and input shape of x_train\n",
    "model.add(Conv2D(64, (3, 3), input_shape=x_train.shape[1:]))\n",
    "# Apply the ReLU activation function to the output of the convolutional layer\n",
    "model.add(Activation(\"relu\"))\n",
    "# Apply max pooling with a pool size of 2x2 to reduce spatial dimensions\n",
    "model.add(MaxPooling2D(pool_size=(2, 2)))\n",
    "\n",
    "# Add another 2D convolutional layer with 64 filters of size 3x3\n",
    "model.add(Conv2D(64, (3, 3)))\n",
    "# Apply the ReLU activation function to the output of the convolutional layer\n",
    "model.add(Activation(\"relu\"))\n",
    "# Apply max pooling with a pool size of 2x2\n",
    "model.add(MaxPooling2D(pool_size=(2, 2)))\n",
    "\n",
    "# Add another 2D convolutional layer with 64 filters of size 3x3\n",
    "model.add(Conv2D(64, (3, 3)))\n",
    "# Apply the ReLU activation function to the output of the convolutional layer\n",
    "model.add(Activation(\"relu\"))\n",
    "# Apply max pooling with a pool size of 2x2\n",
    "model.add(MaxPooling2D(pool_size=(2, 2)))\n",
    "\n",
    "# Flatten the 2D feature maps into a 1D vector\n",
    "model.add(Flatten())\n",
    "\n",
    "# Add a fully connected layer with 64 neurons\n",
    "model.add(Dense(64))\n",
    "# Apply the ReLU activation function to the output of the fully connected layer\n",
    "model.add(Activation(\"relu\"))\n",
    "\n",
    "# Add another fully connected layer with 32 neurons\n",
    "model.add(Dense(32))\n",
    "# Apply the ReLU activation function to the output of the fully connected layer\n",
    "model.add(Activation(\"relu\"))\n",
    "\n",
    "# Add the final fully connected layer with 10 neurons for the output classes\n",
    "model.add(Dense(10))\n",
    "# Apply the softmax activation function to obtain class probabilities\n",
    "model.add(Activation('softmax'))"
   ]
  },
  {
   "cell_type": "code",
   "execution_count": 10,
   "id": "13744ed2",
   "metadata": {},
   "outputs": [
    {
     "name": "stdout",
     "output_type": "stream",
     "text": [
      "Model: \"sequential\"\n",
      "_________________________________________________________________\n",
      " Layer (type)                Output Shape              Param #   \n",
      "=================================================================\n",
      " conv2d (Conv2D)             (None, 26, 26, 64)        640       \n",
      "                                                                 \n",
      " activation (Activation)     (None, 26, 26, 64)        0         \n",
      "                                                                 \n",
      " max_pooling2d (MaxPooling2  (None, 13, 13, 64)        0         \n",
      " D)                                                              \n",
      "                                                                 \n",
      " conv2d_1 (Conv2D)           (None, 11, 11, 64)        36928     \n",
      "                                                                 \n",
      " activation_1 (Activation)   (None, 11, 11, 64)        0         \n",
      "                                                                 \n",
      " max_pooling2d_1 (MaxPoolin  (None, 5, 5, 64)          0         \n",
      " g2D)                                                            \n",
      "                                                                 \n",
      " conv2d_2 (Conv2D)           (None, 3, 3, 64)          36928     \n",
      "                                                                 \n",
      " activation_2 (Activation)   (None, 3, 3, 64)          0         \n",
      "                                                                 \n",
      " max_pooling2d_2 (MaxPoolin  (None, 1, 1, 64)          0         \n",
      " g2D)                                                            \n",
      "                                                                 \n",
      " flatten (Flatten)           (None, 64)                0         \n",
      "                                                                 \n",
      " dense (Dense)               (None, 64)                4160      \n",
      "                                                                 \n",
      " activation_3 (Activation)   (None, 64)                0         \n",
      "                                                                 \n",
      " dense_1 (Dense)             (None, 32)                2080      \n",
      "                                                                 \n",
      " activation_4 (Activation)   (None, 32)                0         \n",
      "                                                                 \n",
      " dense_2 (Dense)             (None, 10)                330       \n",
      "                                                                 \n",
      " activation_5 (Activation)   (None, 10)                0         \n",
      "                                                                 \n",
      "=================================================================\n",
      "Total params: 81066 (316.66 KB)\n",
      "Trainable params: 81066 (316.66 KB)\n",
      "Non-trainable params: 0 (0.00 Byte)\n",
      "_________________________________________________________________\n"
     ]
    }
   ],
   "source": [
    "model.summary()"
   ]
  },
  {
   "cell_type": "code",
   "execution_count": 11,
   "id": "f354907f",
   "metadata": {},
   "outputs": [],
   "source": [
    "model.compile(loss=\"sparse_categorical_crossentropy\" , optimizer = \"adam\" , metrics=['accuracy'])"
   ]
  },
  {
   "cell_type": "code",
   "execution_count": 12,
   "id": "4e06ddac",
   "metadata": {},
   "outputs": [
    {
     "name": "stdout",
     "output_type": "stream",
     "text": [
      "Epoch 1/5\n",
      "1313/1313 [==============================] - 24s 17ms/step - loss: 0.3292 - accuracy: 0.8965 - val_loss: 0.1215 - val_accuracy: 0.9623\n",
      "Epoch 2/5\n",
      "1313/1313 [==============================] - 24s 18ms/step - loss: 0.1022 - accuracy: 0.9692 - val_loss: 0.0990 - val_accuracy: 0.9708\n",
      "Epoch 3/5\n",
      "1313/1313 [==============================] - 24s 18ms/step - loss: 0.0740 - accuracy: 0.9766 - val_loss: 0.0888 - val_accuracy: 0.9728\n",
      "Epoch 4/5\n",
      "1313/1313 [==============================] - 25s 19ms/step - loss: 0.0585 - accuracy: 0.9818 - val_loss: 0.0779 - val_accuracy: 0.9777\n",
      "Epoch 5/5\n",
      "1313/1313 [==============================] - 26s 20ms/step - loss: 0.0483 - accuracy: 0.9843 - val_loss: 0.0843 - val_accuracy: 0.9734\n"
     ]
    },
    {
     "data": {
      "text/plain": [
       "<keras.src.callbacks.History at 0x2897cf02bd0>"
      ]
     },
     "execution_count": 12,
     "metadata": {},
     "output_type": "execute_result"
    }
   ],
   "source": [
    "model.fit(x_trainr, y_train ,epochs=5 , validation_split= 0.3)"
   ]
  },
  {
   "cell_type": "code",
   "execution_count": 13,
   "id": "ff08b514",
   "metadata": {},
   "outputs": [
    {
     "name": "stdout",
     "output_type": "stream",
     "text": [
      "313/313 [==============================] - 2s 6ms/step - loss: 0.0787 - accuracy: 0.9777\n",
      "test loss 0.07871276885271072\n",
      "validation  0.9776999950408936\n"
     ]
    }
   ],
   "source": [
    "test_loss , test_acc = model.evaluate(x_testr,y_test)\n",
    "print(\"test loss\" , test_loss)\n",
    "print(\"validation \" , test_acc)"
   ]
  },
  {
   "cell_type": "code",
   "execution_count": 14,
   "id": "684be98f",
   "metadata": {},
   "outputs": [
    {
     "name": "stdout",
     "output_type": "stream",
     "text": [
      "313/313 [==============================] - 2s 5ms/step\n",
      "[[1.5923883e-09 4.3777385e-07 1.9413169e-07 ... 9.9999523e-01\n",
      "  1.1917040e-10 1.9985764e-06]\n",
      " [6.5626488e-03 3.3397609e-04 9.9287629e-01 ... 4.0973449e-05\n",
      "  6.5078370e-06 1.0199926e-05]\n",
      " [5.8175136e-08 9.9999750e-01 1.5095081e-07 ... 1.8543457e-06\n",
      "  3.8966313e-08 7.2903276e-08]\n",
      " ...\n",
      " [1.5806337e-07 3.6368274e-06 3.0253442e-08 ... 5.9737893e-05\n",
      "  5.4845870e-05 6.7906996e-04]\n",
      " [8.1122681e-07 4.9736838e-07 5.0578625e-10 ... 2.6313030e-09\n",
      "  1.5060309e-05 1.8839911e-04]\n",
      " [1.1749608e-04 4.1902967e-06 4.5112483e-07 ... 3.2999854e-08\n",
      "  1.1407290e-05 2.2021179e-05]]\n"
     ]
    }
   ],
   "source": [
    "preditcions = model.predict([x_testr])\n",
    "print(preditcions)"
   ]
  },
  {
   "cell_type": "code",
   "execution_count": 16,
   "id": "4e9ba5cf",
   "metadata": {},
   "outputs": [
    {
     "name": "stdout",
     "output_type": "stream",
     "text": [
      "1/1 [==============================] - 0s 74ms/step\n",
      "0\n",
      "<class 'numpy.int64'>\n",
      "1/1 [==============================] - 0s 19ms/step\n",
      "0\n",
      "<class 'numpy.int64'>\n",
      "1/1 [==============================] - 0s 18ms/step\n",
      "0\n",
      "<class 'numpy.int64'>\n",
      "1/1 [==============================] - 0s 17ms/step\n",
      "0\n",
      "<class 'numpy.int64'>\n"
     ]
    }
   ],
   "source": [
    "import cv2\n",
    "from PIL import ImageGrab\n",
    "import time\n",
    "\n",
    "font_scale = 1.5\n",
    "font = cv2.FONT_HERSHEY_PLAIN\n",
    "\n",
    "\n",
    "cap = ImageGrab.grab()\n",
    "cap = cap.crop((400, 150, 1300, 950))\n",
    "cap.save(\"screenshot.png\")\n",
    "cap = cv2.imread(\"screenshot.png\")\n",
    "\n",
    "text = \"some text\"\n",
    "(text_width , text_height) = cv2.getTextSize(text , font, fontScale=font_scale , thickness=1)[0]\n",
    "text_offset_x=10\n",
    "text_offset_y=cap.shape[0]-25\n",
    "\n",
    "box_coords = ((text_offset_x,text_offset_y),(text_offset_x+text_width+2 , text_offset_y - text_offset_y -2))\n",
    "\n",
    "cntr =0;\n",
    "while True:\n",
    "    cap = ImageGrab.grab()\n",
    "    cap = cap.crop((400, 150, 1300, 950))\n",
    "    cap.save(\"screenshot.png\")\n",
    "    cap = cv2.imread(\"screenshot.png\")\n",
    "    \n",
    "    frame = cap\n",
    "    time.sleep(1)\n",
    "    \n",
    "    cntr = cntr+1\n",
    "    if (cntr%2 == 0):\n",
    "        gray = cv2.cvtColor(frame , cv2.COLOR_BGR2GRAY)\n",
    "        resized = cv2.resize(gray , (28,28),interpolation= cv2.INTER_AREA)\n",
    "        newimg = tf.keras.utils.normalize(resized , axis=1)\n",
    "        newimg = np.array(newimg).reshape(-1,IMG_SIZE,IMG_SIZE,1)\n",
    "        preditcions = model.predict(newimg)\n",
    "        status = np.argmax(preditcions)\n",
    "        print(status)\n",
    "        print(type(status))\n",
    "        \n",
    "        x1,y1,w1,h1 = 0,0,175,75\n",
    "        cv2.rectangle(frame , (x1,x1),(x1+w1,y1+h1) , (0,0,0) , -1)\n",
    "        cv2.putText(frame , status.astype(str) , (x1+int(w1/5),y1+int(h1/2)) , cv2.FONT_HERSHEY_SIMPLEX , .7 ,(0,0,225) ,2 )\n",
    "        \n",
    "        cv2.imshow('handwritten digits' , frame)\n",
    "        if cv2.waitKey(2) & 0xFF == ord('q'):\n",
    "            break\n",
    "            \n",
    "cv2.destroyAllWindows()"
   ]
  },
  {
   "cell_type": "code",
   "execution_count": null,
   "id": "5ec3d4ee",
   "metadata": {},
   "outputs": [],
   "source": []
  }
 ],
 "metadata": {
  "kernelspec": {
   "display_name": "Python 3 (ipykernel)",
   "language": "python",
   "name": "python3"
  },
  "language_info": {
   "codemirror_mode": {
    "name": "ipython",
    "version": 3
   },
   "file_extension": ".py",
   "mimetype": "text/x-python",
   "name": "python",
   "nbconvert_exporter": "python",
   "pygments_lexer": "ipython3",
   "version": "3.11.3"
  }
 },
 "nbformat": 4,
 "nbformat_minor": 5
}
